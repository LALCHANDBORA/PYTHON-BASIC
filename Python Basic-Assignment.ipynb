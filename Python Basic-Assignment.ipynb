{
 "cells": [
  {
   "cell_type": "markdown",
   "id": "37d85c55",
   "metadata": {},
   "source": [
    "### Python Basic - Assignment "
   ]
  },
  {
   "cell_type": "code",
   "execution_count": 25,
   "id": "a92b11d3",
   "metadata": {},
   "outputs": [
    {
     "name": "stdout",
     "output_type": "stream",
     "text": [
      "Hey there! I am using WhatsApp.\n"
     ]
    }
   ],
   "source": [
    "x=\"Hey there! I am using WhatsApp.\"\n",
    "print(x)"
   ]
  },
  {
   "cell_type": "code",
   "execution_count": 3,
   "id": "bd04e9b8",
   "metadata": {},
   "outputs": [
    {
     "name": "stdout",
     "output_type": "stream",
     "text": [
      "Can't talk, WhatsApp only\n",
      "urgent call only\n"
     ]
    }
   ],
   "source": [
    "y=\"Can't talk, WhatsApp only\"\n",
    "print(y)\n",
    "y= \"urgent call only\"\n",
    "print(y)"
   ]
  },
  {
   "cell_type": "code",
   "execution_count": 5,
   "id": "73bcef50",
   "metadata": {},
   "outputs": [
    {
     "name": "stdout",
     "output_type": "stream",
     "text": [
      "Hello LALCHAND, My advice is to never listen to any advice, not even this one.\n"
     ]
    }
   ],
   "source": [
    "a=\"LALCHAND\"\n",
    "b=\"My advice is to never listen to any advice, not even this one.\"\n",
    "print(\"Hello {}, {}\".format(a,b))"
   ]
  },
  {
   "cell_type": "code",
   "execution_count": 13,
   "id": "1178d929",
   "metadata": {},
   "outputs": [
    {
     "name": "stdout",
     "output_type": "stream",
     "text": [
      "Geoffrey Chaucer once said, \"Money is the root of all evil.\"\n"
     ]
    }
   ],
   "source": [
    "c=\"Geoffrey Chaucer\"\n",
    "d=\"Money is the root of all evil.\"\n",
    "print('{1} once said, \"{0}\"'.format(d,c))"
   ]
  },
  {
   "cell_type": "code",
   "execution_count": 11,
   "id": "a09d4213",
   "metadata": {},
   "outputs": [
    {
     "name": "stdout",
     "output_type": "stream",
     "text": [
      "Geoffrey Chaucer once said, \"Money is the root of all evil.\"\n"
     ]
    }
   ],
   "source": [
    "famous_person=\"Geoffrey Chaucer\"\n",
    "message=\"Money is the root of all evil.\"\n",
    "print('{} once said, \"{}\"'.format(famous_person,message))"
   ]
  },
  {
   "cell_type": "code",
   "execution_count": 17,
   "id": "8ee68d6b",
   "metadata": {},
   "outputs": [
    {
     "name": "stdout",
     "output_type": "stream",
     "text": [
      "8\n",
      "8\n",
      "8\n",
      "8\n"
     ]
    }
   ],
   "source": [
    "#Name: lalchas nd bora\n",
    "#current date:28-10-2022\n",
    "#this programe basically print normal maths operations.\n",
    "print(2+6)\n",
    "print(9-1)\n",
    "print(2*4)\n",
    "print(int(16/2))"
   ]
  },
  {
   "cell_type": "code",
   "execution_count": 24,
   "id": "c5ce3314",
   "metadata": {},
   "outputs": [
    {
     "name": "stdout",
     "output_type": "stream",
     "text": [
      "My lucky number is 27\n"
     ]
    }
   ],
   "source": [
    "#Name: lalchas nd bora\n",
    "#current date:28-10-2022\n",
    "#this programe basically print a variable with revealbe messagew for that varible.\n",
    "p=27\n",
    "print(\"My lucky number is\",(p))"
   ]
  },
  {
   "cell_type": "raw",
   "id": "4fa7c440",
   "metadata": {},
   "source": [
    "Exercise no. 8 is completed with program/ Exercise no. 6 and 7"
   ]
  },
  {
   "cell_type": "code",
   "execution_count": 62,
   "id": "944b9bd5",
   "metadata": {},
   "outputs": [
    {
     "name": "stdout",
     "output_type": "stream",
     "text": [
      "Ram\n",
      "Laxman\n",
      "Shatru\n",
      "Bharat\n"
     ]
    }
   ],
   "source": [
    "Name=[\"Ram\", \"Laxman\", \"Shatru\", \"Bharat\"]\n",
    "print(Name[0])\n",
    "print(Name[1])\n",
    "print(Name[2])\n",
    "print(Name[3])"
   ]
  },
  {
   "cell_type": "code",
   "execution_count": 85,
   "id": "0d2a846e",
   "metadata": {},
   "outputs": [
    {
     "name": "stdout",
     "output_type": "stream",
     "text": [
      "Raja Dasharat's one of the son is Ram\n",
      "Raja Dasharat's one of the son is Laxman\n",
      "RAja Dasharat's one of the son is Shatru\n",
      "Raja Dasharat's one of the son is Bharat\n"
     ]
    }
   ],
   "source": [
    "print(\"Raja Dasharat's one of the son is\",Name[0])\n",
    "print(\"Raja Dasharat's one of the son is\",Name[1])\n",
    "print(\"RAja Dasharat's one of the son is\",Name[2])\n",
    "print(\"Raja Dasharat's one of the son is\",Name[3])"
   ]
  },
  {
   "cell_type": "code",
   "execution_count": 83,
   "id": "a94047b9",
   "metadata": {},
   "outputs": [
    {
     "name": "stdout",
     "output_type": "stream",
     "text": [
      "1.One time I had a skateboard ,but it wasn't very fast.\n",
      "2.my bicycle had a puncture and needed patching up.\n",
      "3.Riding a motorcycle is safer than riding a scooter .\n",
      "4.The subway is a public conveyance.\n",
      "5.The government has just bought a new airplane .\n"
     ]
    }
   ],
   "source": [
    "Vehicle=[\"skateboard\",\"bicycle\",\"scooter\",\"subway\",\"airplane\"]\n",
    "print(\"1.One time I had a\",Vehicle[0],\",\"\"but it wasn't very fast.\")\n",
    "print(\"2.my\",Vehicle[1],\"had a puncture and needed patching up.\")\n",
    "print(\"3.Riding a motorcycle is safer than riding a\",Vehicle[2],\".\")\n",
    "print(\"4.The\",Vehicle[3],\"is a public conveyance.\")\n",
    "print(\"5.The government has just bought a new\",Vehicle[4],\".\")"
   ]
  }
 ],
 "metadata": {
  "kernelspec": {
   "display_name": "Python 3 (ipykernel)",
   "language": "python",
   "name": "python3"
  },
  "language_info": {
   "codemirror_mode": {
    "name": "ipython",
    "version": 3
   },
   "file_extension": ".py",
   "mimetype": "text/x-python",
   "name": "python",
   "nbconvert_exporter": "python",
   "pygments_lexer": "ipython3",
   "version": "3.9.13"
  }
 },
 "nbformat": 4,
 "nbformat_minor": 5
}
